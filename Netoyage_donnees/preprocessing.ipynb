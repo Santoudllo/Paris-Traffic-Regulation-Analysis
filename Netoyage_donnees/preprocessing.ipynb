{
 "cells": [
  {
   "cell_type": "code",
   "execution_count": 1,
   "metadata": {},
   "outputs": [],
   "source": [
    "import pandas as pd\n"
   ]
  },
  {
   "cell_type": "code",
   "execution_count": 2,
   "metadata": {},
   "outputs": [],
   "source": [
    "# Charger les données\n",
    "data = pd.read_csv(\"../data/comptages-routiers.csv\")"
   ]
  },
  {
   "cell_type": "code",
   "execution_count": 3,
   "metadata": {},
   "outputs": [
    {
     "data": {
      "text/html": [
       "<div>\n",
       "<style scoped>\n",
       "    .dataframe tbody tr th:only-of-type {\n",
       "        vertical-align: middle;\n",
       "    }\n",
       "\n",
       "    .dataframe tbody tr th {\n",
       "        vertical-align: top;\n",
       "    }\n",
       "\n",
       "    .dataframe thead th {\n",
       "        text-align: right;\n",
       "    }\n",
       "</style>\n",
       "<table border=\"1\" class=\"dataframe\">\n",
       "  <thead>\n",
       "    <tr style=\"text-align: right;\">\n",
       "      <th></th>\n",
       "      <th>Identifiant arc</th>\n",
       "      <th>Libelle</th>\n",
       "      <th>Date et heure de comptage</th>\n",
       "      <th>Debit horaire</th>\n",
       "      <th>Taux d'occupation</th>\n",
       "      <th>Etat trafic</th>\n",
       "      <th>Identifiant noeud amont</th>\n",
       "      <th>Libelle noeud amont</th>\n",
       "      <th>Identifiant noeud aval</th>\n",
       "      <th>Libelle noeud aval</th>\n",
       "      <th>Etat arc</th>\n",
       "      <th>Date debut dispo data</th>\n",
       "      <th>Date fin dispo data</th>\n",
       "      <th>geo_point_2d</th>\n",
       "      <th>Unnamed: 14</th>\n",
       "    </tr>\n",
       "  </thead>\n",
       "  <tbody>\n",
       "    <tr>\n",
       "      <th>0</th>\n",
       "      <td>6532</td>\n",
       "      <td>Tolbiac</td>\n",
       "      <td>2023-11-06T06:00:00+01:00</td>\n",
       "      <td>28.0</td>\n",
       "      <td>0.24611</td>\n",
       "      <td>Fluide</td>\n",
       "      <td>2626</td>\n",
       "      <td>Alesia-Sante-Glaciere-Tolbiac</td>\n",
       "      <td>3386</td>\n",
       "      <td>Tolbiac-Wurtz</td>\n",
       "      <td>Invalide</td>\n",
       "      <td>37708.0</td>\n",
       "      <td>44927.0</td>\n",
       "      <td>48.826247</td>\n",
       "      <td>2.342832</td>\n",
       "    </tr>\n",
       "    <tr>\n",
       "      <th>1</th>\n",
       "      <td>6532</td>\n",
       "      <td>Tolbiac</td>\n",
       "      <td>2023-11-06T08:00:00+01:00</td>\n",
       "      <td>153.0</td>\n",
       "      <td>2.36000</td>\n",
       "      <td>Fluide</td>\n",
       "      <td>2626</td>\n",
       "      <td>Alesia-Sante-Glaciere-Tolbiac</td>\n",
       "      <td>3386</td>\n",
       "      <td>Tolbiac-Wurtz</td>\n",
       "      <td>Invalide</td>\n",
       "      <td>37708.0</td>\n",
       "      <td>44927.0</td>\n",
       "      <td>48.826247</td>\n",
       "      <td>2.342832</td>\n",
       "    </tr>\n",
       "    <tr>\n",
       "      <th>2</th>\n",
       "      <td>6532</td>\n",
       "      <td>Tolbiac</td>\n",
       "      <td>2023-11-06T03:00:00+01:00</td>\n",
       "      <td>16.0</td>\n",
       "      <td>0.08389</td>\n",
       "      <td>Fluide</td>\n",
       "      <td>2626</td>\n",
       "      <td>Alesia-Sante-Glaciere-Tolbiac</td>\n",
       "      <td>3386</td>\n",
       "      <td>Tolbiac-Wurtz</td>\n",
       "      <td>Invalide</td>\n",
       "      <td>37708.0</td>\n",
       "      <td>44927.0</td>\n",
       "      <td>48.826247</td>\n",
       "      <td>2.342832</td>\n",
       "    </tr>\n",
       "    <tr>\n",
       "      <th>3</th>\n",
       "      <td>6532</td>\n",
       "      <td>Tolbiac</td>\n",
       "      <td>2023-11-06T07:00:00+01:00</td>\n",
       "      <td>61.0</td>\n",
       "      <td>0.84444</td>\n",
       "      <td>Fluide</td>\n",
       "      <td>2626</td>\n",
       "      <td>Alesia-Sante-Glaciere-Tolbiac</td>\n",
       "      <td>3386</td>\n",
       "      <td>Tolbiac-Wurtz</td>\n",
       "      <td>Invalide</td>\n",
       "      <td>37708.0</td>\n",
       "      <td>44927.0</td>\n",
       "      <td>48.826247</td>\n",
       "      <td>2.342832</td>\n",
       "    </tr>\n",
       "    <tr>\n",
       "      <th>4</th>\n",
       "      <td>6532</td>\n",
       "      <td>Tolbiac</td>\n",
       "      <td>2023-11-06T01:00:00+01:00</td>\n",
       "      <td>53.0</td>\n",
       "      <td>0.64278</td>\n",
       "      <td>Fluide</td>\n",
       "      <td>2626</td>\n",
       "      <td>Alesia-Sante-Glaciere-Tolbiac</td>\n",
       "      <td>3386</td>\n",
       "      <td>Tolbiac-Wurtz</td>\n",
       "      <td>Invalide</td>\n",
       "      <td>37708.0</td>\n",
       "      <td>44927.0</td>\n",
       "      <td>48.826247</td>\n",
       "      <td>2.342832</td>\n",
       "    </tr>\n",
       "  </tbody>\n",
       "</table>\n",
       "</div>"
      ],
      "text/plain": [
       "   Identifiant arc  Libelle  Date et heure de comptage  Debit horaire  \\\n",
       "0             6532  Tolbiac  2023-11-06T06:00:00+01:00           28.0   \n",
       "1             6532  Tolbiac  2023-11-06T08:00:00+01:00          153.0   \n",
       "2             6532  Tolbiac  2023-11-06T03:00:00+01:00           16.0   \n",
       "3             6532  Tolbiac  2023-11-06T07:00:00+01:00           61.0   \n",
       "4             6532  Tolbiac  2023-11-06T01:00:00+01:00           53.0   \n",
       "\n",
       "   Taux d'occupation Etat trafic  Identifiant noeud amont  \\\n",
       "0            0.24611      Fluide                     2626   \n",
       "1            2.36000      Fluide                     2626   \n",
       "2            0.08389      Fluide                     2626   \n",
       "3            0.84444      Fluide                     2626   \n",
       "4            0.64278      Fluide                     2626   \n",
       "\n",
       "             Libelle noeud amont  Identifiant noeud aval Libelle noeud aval  \\\n",
       "0  Alesia-Sante-Glaciere-Tolbiac                    3386      Tolbiac-Wurtz   \n",
       "1  Alesia-Sante-Glaciere-Tolbiac                    3386      Tolbiac-Wurtz   \n",
       "2  Alesia-Sante-Glaciere-Tolbiac                    3386      Tolbiac-Wurtz   \n",
       "3  Alesia-Sante-Glaciere-Tolbiac                    3386      Tolbiac-Wurtz   \n",
       "4  Alesia-Sante-Glaciere-Tolbiac                    3386      Tolbiac-Wurtz   \n",
       "\n",
       "   Etat arc  Date debut dispo data  Date fin dispo data  geo_point_2d  \\\n",
       "0  Invalide                37708.0              44927.0     48.826247   \n",
       "1  Invalide                37708.0              44927.0     48.826247   \n",
       "2  Invalide                37708.0              44927.0     48.826247   \n",
       "3  Invalide                37708.0              44927.0     48.826247   \n",
       "4  Invalide                37708.0              44927.0     48.826247   \n",
       "\n",
       "   Unnamed: 14  \n",
       "0     2.342832  \n",
       "1     2.342832  \n",
       "2     2.342832  \n",
       "3     2.342832  \n",
       "4     2.342832  "
      ]
     },
     "execution_count": 3,
     "metadata": {},
     "output_type": "execute_result"
    }
   ],
   "source": [
    "data.head(5)"
   ]
  },
  {
   "cell_type": "markdown",
   "metadata": {},
   "source": [
    " Conversion des types de données"
   ]
  },
  {
   "cell_type": "code",
   "execution_count": 4,
   "metadata": {},
   "outputs": [
    {
     "name": "stderr",
     "output_type": "stream",
     "text": [
      "/tmp/ipykernel_15510/200383909.py:1: FutureWarning: In a future version of pandas, parsing datetimes with mixed time zones will raise an error unless `utc=True`. Please specify `utc=True` to opt in to the new behaviour and silence this warning. To create a `Series` with mixed offsets and `object` dtype, please use `apply` and `datetime.datetime.strptime`\n",
      "  data['Date et heure de comptage'] = pd.to_datetime(data['Date et heure de comptage'])\n"
     ]
    }
   ],
   "source": [
    "data['Date et heure de comptage'] = pd.to_datetime(data['Date et heure de comptage'])"
   ]
  },
  {
   "cell_type": "markdown",
   "metadata": {},
   "source": [
    "Traitement des valeurs manquantes"
   ]
  },
  {
   "cell_type": "code",
   "execution_count": 5,
   "metadata": {},
   "outputs": [
    {
     "name": "stderr",
     "output_type": "stream",
     "text": [
      "/tmp/ipykernel_15510/752108873.py:2: FutureWarning: A value is trying to be set on a copy of a DataFrame or Series through chained assignment using an inplace method.\n",
      "The behavior will change in pandas 3.0. This inplace method will never work because the intermediate object on which we are setting values always behaves as a copy.\n",
      "\n",
      "For example, when doing 'df[col].method(value, inplace=True)', try using 'df.method({col: value}, inplace=True)' or df[col] = df[col].method(value) instead, to perform the operation inplace on the original object.\n",
      "\n",
      "\n",
      "  data['Taux d\\'occupation'].fillna(mean_taux_occupation, inplace=True)\n"
     ]
    }
   ],
   "source": [
    "mean_taux_occupation = data['Taux d\\'occupation'].mean()\n",
    "data['Taux d\\'occupation'].fillna(mean_taux_occupation, inplace=True)"
   ]
  },
  {
   "cell_type": "markdown",
   "metadata": {},
   "source": [
    "Traitement des valeurs aberrantes"
   ]
  },
  {
   "cell_type": "markdown",
   "metadata": {},
   "source": [
    "supprimer les lignes avec des débits horaires négatifs"
   ]
  },
  {
   "cell_type": "code",
   "execution_count": 6,
   "metadata": {},
   "outputs": [],
   "source": [
    "data = data[data['Debit horaire'] >= 0]"
   ]
  },
  {
   "cell_type": "markdown",
   "metadata": {},
   "source": [
    "Normalisation ( mise à l'échelle des fonctionnalités)"
   ]
  },
  {
   "cell_type": "markdown",
   "metadata": {},
   "source": [
    "mettre à l'échelle 'Debit horaire' entre 0 et 1"
   ]
  },
  {
   "cell_type": "code",
   "execution_count": 7,
   "metadata": {},
   "outputs": [],
   "source": [
    "data['Debit horaire'] = (data['Debit horaire'] - data['Debit horaire'].min()) / (data['Debit horaire'].max() - data['Debit horaire'].min())"
   ]
  },
  {
   "cell_type": "markdown",
   "metadata": {},
   "source": [
    "Encodage des variables catégorielles (encodage one-hot pour 'Etat trafic')"
   ]
  },
  {
   "cell_type": "code",
   "execution_count": 8,
   "metadata": {},
   "outputs": [],
   "source": [
    "data = pd.get_dummies(data, columns=['Etat trafic'])"
   ]
  },
  {
   "cell_type": "markdown",
   "metadata": {},
   "source": [
    "sauvegarder le dataframe nettoyé"
   ]
  },
  {
   "cell_type": "code",
   "execution_count": null,
   "metadata": {},
   "outputs": [],
   "source": [
    "data.to_csv(\"../data/data_nettoye.csv\", index=False)"
   ]
  }
 ],
 "metadata": {
  "kernelspec": {
   "display_name": "Python 3",
   "language": "python",
   "name": "python3"
  },
  "language_info": {
   "codemirror_mode": {
    "name": "ipython",
    "version": 3
   },
   "file_extension": ".py",
   "mimetype": "text/x-python",
   "name": "python",
   "nbconvert_exporter": "python",
   "pygments_lexer": "ipython3",
   "version": "3.10.12"
  }
 },
 "nbformat": 4,
 "nbformat_minor": 2
}
